freqs_E = np.array([96, 499, 1000, 3571, 5030, 7541, 10100, 13000, 15950, 17600, 20960,\
            23300, 26800, 27000, 28900, 31100, 34340, 35300, 35720, 36000, 36100, 36710, 37600, 38000, 38410, 39060, 39940, \
            41190, 42120, 43330, 44010, 45090, 46000, 50000, 50470, 55000, 59950, \
            62340, 67490, 70770, 72880, 74710, 77340, 80390, 82400, 85050, 87800, 90250, 92790, 94610])
R_E = np.array([2700000, 1240000, 107000, 26400, 19300, 12000, 9000, 6470, 5100, 4440, 3400, \
            2740, 1900, 2000, 1600, 1200, 660, 495, 430, 367, 330, 170, 107, 127, 144, 180, 250, 360, 460, 570, 670, \
            770, 870, 1300, 1400, 1900, 2510, 2800, 3400, 3900, 4060, 4400, 5000, 5070, 6000, 6444, 7020, 7900, 9000, 9900])
V_E1 = np.array([5.6, 6.4, 7.12, 7.6, 7.20, 7.6, 7.36, 7.76, 7.44, 7.68, 7.44, 7.72, 7.44, 7.6, 7.68, 7.44, 7.52, 7.12, \
            7.28, 6.96, 7.24, 6.32, 5.36, 5.52, 6.0, 6.16, 6.48, 6.96, 7.12, 7.28, 7.28, 7.44, 7.44, 7.76, 8.24, 8.40, \
            8.24, 8.40, 9.44, 9.58, 10.00, 9.44, 10.25, 10.00, 11.05, 11.70, 12.40, 12.50, 14.20, 14.50])
V_E2 = np.array([5.60, 6.48, 7.20, 7.44, 7.28, 7.52, 7.36, 7.60, 7.44, 7.80, 7.44, 7.76, 7.44, 7.68, 7.68, 7.44, 7.60, 7.12, \
            7.40, 7.04, 7.16, 6.53, 5.28, 5.6, 6.4, 6.08, 6.56, 7.04, 7.20, 7.36, 7.52, 7.52, 7.52, 7.68, 8.48, 8.60, 8.48, \
            8.64, 9.44, 9.80, 9.92, 9.44, 10.60, 10.20, 11.45, 11.80, 12.40, 12.50, 14.30, 14.50])
phi_E = np.array([39.0, 73.0, 72.0, 83.0, 83.0, 85.0, 84, 83.0, 84.0, 83.0, 85.0, 85.0, 86.0, 84.9, 85.0, 84.0, 83.0, 80.0, \
            52.5, 77.0, 76.1, 54.0, 16, 34.5, 42.8, 60.0, 69.6, 78.0, 82.0, 84.2, 85.8, 87.2, 88.1, 91.4, 90.9, 94.8, 99.2, 101.0, \
            103.0, 106.0, 107.0, 110.0, 112.0, 115.0, 118.0, 120.0, 124.0, 128.0, 131.0, 135.0])
w_E = np.pi*2*freqs_E
I_E = (V_E2 / R_E)
Z_E = (V_E1 / I_E)
Y_E = 1/Z_E
z = Z_E**2
y = Y_E**2
v = w_E**2
n = 1/v

fig, ax1 = plt.subplots()
color = 'xkcd:magenta'
ax1.set_xlabel('$\omega$ (Hz),', color = 'k')
ax1.set_ylabel('Impedance', color = color)
ax1.plot(w_E[3:], Z_E[3:], '.-', color = color)
ax1.tick_params(axis='y', labelcolor = color)

ax2 = ax1.twinx()
color = 'xkcd:olive'
ax2.set_ylabel('Admittance', color = color)
ax2.plot(w_E[3:], Y_E[3:], '.-', color = color)
ax2.tick_params(axis = 'y', labelcolor = color)

fig.tight_layout()  # otherwise the right y-label is slightly clipped
plt.show()

plt.figure(1)
plt.plot(w_E[33:], Z_E[33:], '.-')

# plt.figure(1)
# plt.plot(n[:7], z[:7], '.', c = 'xkcd:sienna')
# plt.xlabel('1/$\omega$$^{2}$')
# plt.ylabel('Z$^{2}$')
# plt.title('low freq')

# plt.figure(2)
# plt.plot(v[20:], z[20:], '.', c = 'xkcd:sienna')
# plt.xlabel('$\omega$$^{2}$')
# plt.ylabel('Z$^{2}$')
# plt.title('high freq')
w = w_E[33:]
p = Z_E[33:]
w_inv = 1 / w_E[3:15]
z_low = Z_E[3:15]
def modE(w, a, b):
    return(a*w + b)
init_guess = [0, 0]

fit = scipy.optimize.curve_fit(modE, w, p, p0 = init_guess)
ans, cov = fit
fit_a, fit_b = ans

z = np.linspace(320000, 600000)
plt.plot(z, modE(z, fit_a, fit_b), c = 'turquoise')
plt.xlabel('$\omega$ (Hz)')
plt.ylabel('Impedance($\Omega$)')

plt.figure(2)
plt.plot(w_inv, z_low, '.')

def modElow(w_inv, c, d):
    return(c*w_inv + d)
init_guess = [0, -10]

fit = scipy.optimize.curve_fit(modElow, w_inv, z_low, p0 = init_guess)
ans, cov = fit
fit_c, fit_d = ans

low = np.linspace(0, 0.00005)
plt.plot(low, modE(low, fit_c, fit_d), c = 'turquoise')
plt.xlabel('1 / $\omega$ (1 / Hz)')
plt.ylabel('Impedance($\Omega$)')

linregress(w_inv, z_low)[1]
